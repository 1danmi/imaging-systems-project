{
  "cells": [
    {
      "metadata": {
        "id": "3a37a12d53d21f93"
      },
      "cell_type": "markdown",
      "source": [
        "# 0. Clone repository"
      ],
      "id": "3a37a12d53d21f93"
    },
    {
      "cell_type": "code",
      "source": [
        "!git clone https://github.com/1danmi/imaging-systems-project"
      ],
      "metadata": {
        "colab": {
          "base_uri": "https://localhost:8080/"
        },
        "id": "nvDklVKIg-E8",
        "outputId": "0e4d4723-a69f-40e4-f5ae-91d8d7cd91c9"
      },
      "id": "nvDklVKIg-E8",
      "execution_count": 3,
      "outputs": [
        {
          "output_type": "stream",
          "name": "stdout",
          "text": [
            "fatal: destination path 'imaging-systems-project' already exists and is not an empty directory.\n"
          ]
        }
      ]
    },
    {
      "metadata": {
        "ExecuteTime": {
          "end_time": "2025-07-31T07:37:34.289769Z",
          "start_time": "2025-07-31T07:37:25.430675Z"
        },
        "id": "ffd0328bb395e594"
      },
      "cell_type": "code",
      "source": [
        "!rm -rf imaging-systems-project/.git"
      ],
      "id": "ffd0328bb395e594",
      "outputs": [],
      "execution_count": 13
    },
    {
      "cell_type": "code",
      "source": [
        "cd imaging-systems-project/"
      ],
      "metadata": {
        "colab": {
          "base_uri": "https://localhost:8080/"
        },
        "id": "WqJm7As5mgdJ",
        "outputId": "4f66fcec-c239-4eb2-999f-cce63e4ff51c"
      },
      "id": "WqJm7As5mgdJ",
      "execution_count": 4,
      "outputs": [
        {
          "output_type": "stream",
          "name": "stdout",
          "text": [
            "/content/imaging-systems-project\n"
          ]
        }
      ]
    },
    {
      "cell_type": "markdown",
      "source": [
        "# 1. Install Requirements"
      ],
      "metadata": {
        "id": "UpWB73g9nWuv"
      },
      "id": "UpWB73g9nWuv"
    },
    {
      "cell_type": "code",
      "source": [
        "%pip install -r requirements.txt"
      ],
      "metadata": {
        "colab": {
          "base_uri": "https://localhost:8080/"
        },
        "id": "LwfhtK8mnaqH",
        "outputId": "7d7a6961-a855-4ccc-88e4-18fda7ea4205"
      },
      "id": "LwfhtK8mnaqH",
      "execution_count": 5,
      "outputs": [
        {
          "output_type": "stream",
          "name": "stdout",
          "text": [
            "Requirement already satisfied: absl-py==2.3.1 in /usr/local/lib/python3.11/dist-packages (from -r requirements.txt (line 1)) (2.3.1)\n",
            "Requirement already satisfied: annotated-types==0.7.0 in /usr/local/lib/python3.11/dist-packages (from -r requirements.txt (line 2)) (0.7.0)\n",
            "Requirement already satisfied: black==25.1.0 in /usr/local/lib/python3.11/dist-packages (from -r requirements.txt (line 3)) (25.1.0)\n",
            "Requirement already satisfied: click==8.2.1 in /usr/local/lib/python3.11/dist-packages (from -r requirements.txt (line 4)) (8.2.1)\n",
            "Requirement already satisfied: colorama==0.4.6 in /usr/local/lib/python3.11/dist-packages (from -r requirements.txt (line 5)) (0.4.6)\n",
            "Requirement already satisfied: contourpy==1.3.3 in /usr/local/lib/python3.11/dist-packages (from -r requirements.txt (line 6)) (1.3.3)\n",
            "Requirement already satisfied: cycler==0.12.1 in /usr/local/lib/python3.11/dist-packages (from -r requirements.txt (line 7)) (0.12.1)\n",
            "Requirement already satisfied: filelock==3.18.0 in /usr/local/lib/python3.11/dist-packages (from -r requirements.txt (line 8)) (3.18.0)\n",
            "Requirement already satisfied: fonttools==4.59.0 in /usr/local/lib/python3.11/dist-packages (from -r requirements.txt (line 9)) (4.59.0)\n",
            "Requirement already satisfied: fsspec==2025.7.0 in /usr/local/lib/python3.11/dist-packages (from -r requirements.txt (line 10)) (2025.7.0)\n",
            "Requirement already satisfied: grpcio==1.74.0 in /usr/local/lib/python3.11/dist-packages (from -r requirements.txt (line 11)) (1.74.0)\n",
            "Requirement already satisfied: Jinja2==3.1.6 in /usr/local/lib/python3.11/dist-packages (from -r requirements.txt (line 12)) (3.1.6)\n",
            "Requirement already satisfied: joblib==1.5.1 in /usr/local/lib/python3.11/dist-packages (from -r requirements.txt (line 13)) (1.5.1)\n",
            "Requirement already satisfied: kiwisolver==1.4.8 in /usr/local/lib/python3.11/dist-packages (from -r requirements.txt (line 14)) (1.4.8)\n",
            "Requirement already satisfied: Markdown==3.8.2 in /usr/local/lib/python3.11/dist-packages (from -r requirements.txt (line 15)) (3.8.2)\n",
            "Requirement already satisfied: MarkupSafe==3.0.2 in /usr/local/lib/python3.11/dist-packages (from -r requirements.txt (line 16)) (3.0.2)\n",
            "Requirement already satisfied: matplotlib==3.10.3 in /usr/local/lib/python3.11/dist-packages (from -r requirements.txt (line 17)) (3.10.3)\n",
            "Requirement already satisfied: mpmath==1.3.0 in /usr/local/lib/python3.11/dist-packages (from -r requirements.txt (line 18)) (1.3.0)\n",
            "Requirement already satisfied: mypy_extensions==1.1.0 in /usr/local/lib/python3.11/dist-packages (from -r requirements.txt (line 19)) (1.1.0)\n",
            "Requirement already satisfied: networkx==3.5 in /usr/local/lib/python3.11/dist-packages (from -r requirements.txt (line 20)) (3.5)\n",
            "Requirement already satisfied: numpy==2.3.2 in /usr/local/lib/python3.11/dist-packages (from -r requirements.txt (line 21)) (2.3.2)\n",
            "Requirement already satisfied: opencv-python==4.10.0.84 in /usr/local/lib/python3.11/dist-packages (from -r requirements.txt (line 22)) (4.10.0.84)\n",
            "Requirement already satisfied: packaging==25.0 in /usr/local/lib/python3.11/dist-packages (from -r requirements.txt (line 23)) (25.0)\n",
            "Requirement already satisfied: pandas==2.3.1 in /usr/local/lib/python3.11/dist-packages (from -r requirements.txt (line 24)) (2.3.1)\n",
            "Requirement already satisfied: pathspec==0.12.1 in /usr/local/lib/python3.11/dist-packages (from -r requirements.txt (line 25)) (0.12.1)\n",
            "Requirement already satisfied: pillow==11.3.0 in /usr/local/lib/python3.11/dist-packages (from -r requirements.txt (line 26)) (11.3.0)\n",
            "Requirement already satisfied: platformdirs==4.3.8 in /usr/local/lib/python3.11/dist-packages (from -r requirements.txt (line 27)) (4.3.8)\n",
            "Requirement already satisfied: protobuf==6.31.1 in /usr/local/lib/python3.11/dist-packages (from -r requirements.txt (line 28)) (6.31.1)\n",
            "Requirement already satisfied: pydantic==2.11.7 in /usr/local/lib/python3.11/dist-packages (from -r requirements.txt (line 29)) (2.11.7)\n",
            "Requirement already satisfied: pydantic-settings==2.10.1 in /usr/local/lib/python3.11/dist-packages (from -r requirements.txt (line 30)) (2.10.1)\n",
            "Requirement already satisfied: pydantic_core==2.33.2 in /usr/local/lib/python3.11/dist-packages (from -r requirements.txt (line 31)) (2.33.2)\n",
            "Requirement already satisfied: pyparsing==3.2.3 in /usr/local/lib/python3.11/dist-packages (from -r requirements.txt (line 32)) (3.2.3)\n",
            "Requirement already satisfied: python-dateutil==2.9.0.post0 in /usr/local/lib/python3.11/dist-packages (from -r requirements.txt (line 33)) (2.9.0.post0)\n",
            "Requirement already satisfied: python-dotenv==1.1.1 in /usr/local/lib/python3.11/dist-packages (from -r requirements.txt (line 34)) (1.1.1)\n",
            "Requirement already satisfied: pytz==2025.2 in /usr/local/lib/python3.11/dist-packages (from -r requirements.txt (line 35)) (2025.2)\n",
            "Requirement already satisfied: scikit-learn==1.7.1 in /usr/local/lib/python3.11/dist-packages (from -r requirements.txt (line 36)) (1.7.1)\n",
            "Requirement already satisfied: scipy==1.16.1 in /usr/local/lib/python3.11/dist-packages (from -r requirements.txt (line 37)) (1.16.1)\n",
            "Requirement already satisfied: setuptools==80.9.0 in /usr/local/lib/python3.11/dist-packages (from -r requirements.txt (line 38)) (80.9.0)\n",
            "Requirement already satisfied: six==1.17.0 in /usr/local/lib/python3.11/dist-packages (from -r requirements.txt (line 39)) (1.17.0)\n",
            "Requirement already satisfied: sympy==1.14.0 in /usr/local/lib/python3.11/dist-packages (from -r requirements.txt (line 40)) (1.14.0)\n",
            "Requirement already satisfied: tensorboard==2.20.0 in /usr/local/lib/python3.11/dist-packages (from -r requirements.txt (line 41)) (2.20.0)\n",
            "Requirement already satisfied: tensorboard-data-server==0.7.2 in /usr/local/lib/python3.11/dist-packages (from -r requirements.txt (line 42)) (0.7.2)\n",
            "Requirement already satisfied: threadpoolctl==3.6.0 in /usr/local/lib/python3.11/dist-packages (from -r requirements.txt (line 43)) (3.6.0)\n",
            "Requirement already satisfied: torch==2.7.1 in /usr/local/lib/python3.11/dist-packages (from -r requirements.txt (line 44)) (2.7.1)\n",
            "Requirement already satisfied: torchvision==0.22.1 in /usr/local/lib/python3.11/dist-packages (from -r requirements.txt (line 45)) (0.22.1)\n",
            "Requirement already satisfied: tqdm==4.67.1 in /usr/local/lib/python3.11/dist-packages (from -r requirements.txt (line 46)) (4.67.1)\n",
            "Requirement already satisfied: typing-inspection==0.4.1 in /usr/local/lib/python3.11/dist-packages (from -r requirements.txt (line 47)) (0.4.1)\n",
            "Requirement already satisfied: typing_extensions==4.14.1 in /usr/local/lib/python3.11/dist-packages (from -r requirements.txt (line 48)) (4.14.1)\n",
            "Requirement already satisfied: tzdata==2025.2 in /usr/local/lib/python3.11/dist-packages (from -r requirements.txt (line 49)) (2025.2)\n",
            "Requirement already satisfied: uv==0.8.3 in /usr/local/lib/python3.11/dist-packages (from -r requirements.txt (line 50)) (0.8.3)\n",
            "Requirement already satisfied: Werkzeug==3.1.3 in /usr/local/lib/python3.11/dist-packages (from -r requirements.txt (line 51)) (3.1.3)\n",
            "Requirement already satisfied: nvidia-cuda-nvrtc-cu12==12.6.77 in /usr/local/lib/python3.11/dist-packages (from torch==2.7.1->-r requirements.txt (line 44)) (12.6.77)\n",
            "Requirement already satisfied: nvidia-cuda-runtime-cu12==12.6.77 in /usr/local/lib/python3.11/dist-packages (from torch==2.7.1->-r requirements.txt (line 44)) (12.6.77)\n",
            "Requirement already satisfied: nvidia-cuda-cupti-cu12==12.6.80 in /usr/local/lib/python3.11/dist-packages (from torch==2.7.1->-r requirements.txt (line 44)) (12.6.80)\n",
            "Requirement already satisfied: nvidia-cudnn-cu12==9.5.1.17 in /usr/local/lib/python3.11/dist-packages (from torch==2.7.1->-r requirements.txt (line 44)) (9.5.1.17)\n",
            "Requirement already satisfied: nvidia-cublas-cu12==12.6.4.1 in /usr/local/lib/python3.11/dist-packages (from torch==2.7.1->-r requirements.txt (line 44)) (12.6.4.1)\n",
            "Requirement already satisfied: nvidia-cufft-cu12==11.3.0.4 in /usr/local/lib/python3.11/dist-packages (from torch==2.7.1->-r requirements.txt (line 44)) (11.3.0.4)\n",
            "Requirement already satisfied: nvidia-curand-cu12==10.3.7.77 in /usr/local/lib/python3.11/dist-packages (from torch==2.7.1->-r requirements.txt (line 44)) (10.3.7.77)\n",
            "Requirement already satisfied: nvidia-cusolver-cu12==11.7.1.2 in /usr/local/lib/python3.11/dist-packages (from torch==2.7.1->-r requirements.txt (line 44)) (11.7.1.2)\n",
            "Requirement already satisfied: nvidia-cusparse-cu12==12.5.4.2 in /usr/local/lib/python3.11/dist-packages (from torch==2.7.1->-r requirements.txt (line 44)) (12.5.4.2)\n",
            "Requirement already satisfied: nvidia-cusparselt-cu12==0.6.3 in /usr/local/lib/python3.11/dist-packages (from torch==2.7.1->-r requirements.txt (line 44)) (0.6.3)\n",
            "Requirement already satisfied: nvidia-nccl-cu12==2.26.2 in /usr/local/lib/python3.11/dist-packages (from torch==2.7.1->-r requirements.txt (line 44)) (2.26.2)\n",
            "Requirement already satisfied: nvidia-nvtx-cu12==12.6.77 in /usr/local/lib/python3.11/dist-packages (from torch==2.7.1->-r requirements.txt (line 44)) (12.6.77)\n",
            "Requirement already satisfied: nvidia-nvjitlink-cu12==12.6.85 in /usr/local/lib/python3.11/dist-packages (from torch==2.7.1->-r requirements.txt (line 44)) (12.6.85)\n",
            "Requirement already satisfied: nvidia-cufile-cu12==1.11.1.6 in /usr/local/lib/python3.11/dist-packages (from torch==2.7.1->-r requirements.txt (line 44)) (1.11.1.6)\n",
            "Requirement already satisfied: triton==3.3.1 in /usr/local/lib/python3.11/dist-packages (from torch==2.7.1->-r requirements.txt (line 44)) (3.3.1)\n"
          ]
        }
      ]
    },
    {
      "cell_type": "code",
      "source": [
        "!python --version"
      ],
      "metadata": {
        "colab": {
          "base_uri": "https://localhost:8080/"
        },
        "id": "jtGQpF1KE3Kr",
        "outputId": "30c597fd-c04c-46f0-e3d0-6701a7a8f70a"
      },
      "id": "jtGQpF1KE3Kr",
      "execution_count": 1,
      "outputs": [
        {
          "output_type": "stream",
          "name": "stdout",
          "text": [
            "Python 3.11.13\n"
          ]
        }
      ]
    },
    {
      "metadata": {
        "id": "70a5669e2ef63c86"
      },
      "cell_type": "markdown",
      "source": [
        "# 2. Import stuff"
      ],
      "id": "70a5669e2ef63c86"
    },
    {
      "metadata": {
        "id": "70db988f683c434d"
      },
      "cell_type": "code",
      "outputs": [],
      "execution_count": 6,
      "source": [
        "from pathlib import Path\n",
        "from typing import Literal\n",
        "\n",
        "from predictor import Predictor\n",
        "from models import SimpleCNN, ResNet18, CapsNet\n",
        "from config import ProcessorSettings, PredictorSettings"
      ],
      "id": "70db988f683c434d"
    },
    {
      "metadata": {
        "id": "ec5d128882fe4ec8"
      },
      "cell_type": "markdown",
      "source": [
        "# 3. Prediction code"
      ],
      "id": "ec5d128882fe4ec8"
    },
    {
      "metadata": {
        "id": "bb4b0e6530a1ae44"
      },
      "cell_type": "code",
      "outputs": [],
      "execution_count": 10,
      "source": [
        "\n",
        "ModelName = Literal[\"simplecnn\", \"resnet18\", \"capsnet\"]\n",
        "\n",
        "model_to_class: dict[ModelName, type] = {\"simplecnn\": SimpleCNN, \"resnet18\": ResNet18, \"capsnet\": CapsNet}\n",
        "model_to_weights_path: dict[ModelName, Path] = {\n",
        "    \"simplecnn\": Path(\"trained_models/best_model_SimpleCNN.pth\"),\n",
        "    \"resnet18\": Path(\"trained_models/best_model_ResNet18.pth\"),\n",
        "    \"capsnet\": Path(\"trained_models/best_model_CapsNet.pth\"),\n",
        "}\n",
        "\n",
        "\n",
        "def predict(images_path: Path | str, model_name: ModelName, output_path: Path | str):\n",
        "    proc_cfg = ProcessorSettings(root_dir=Path(images_path))\n",
        "    settings = PredictorSettings(\n",
        "        model_path=model_to_weights_path[model_name],\n",
        "        images_root=Path(images_path),\n",
        "        output_path=Path(output_path),\n",
        "        write_label_idx=False,\n",
        "        write_probs=False,\n",
        "    )\n",
        "    pred = Predictor(proc_cfg, base_model_cls=model_to_class[model_name])\n",
        "    pred.run(settings)\n",
        "\n",
        "\n",
        "def main():\n",
        "    model_idx = input(\n",
        "        \"\"\"Please select model:\n",
        "    1. SimpleCNN\n",
        "    2. ResNet18\n",
        "    3. CapsNet\n",
        "\"\"\"\n",
        "    )\n",
        "    match model_idx:\n",
        "        case \"1\":\n",
        "            model_name: ModelName = \"simplecnn\"\n",
        "        case \"2\":\n",
        "            model_name: ModelName = \"resnet18\"\n",
        "        case \"3\":\n",
        "            model_name: ModelName = \"capsnet\"\n",
        "        case _:\n",
        "            raise ValueError(\"Invalid model selection\")\n",
        "\n",
        "    images_path = input(\"Please enter path to images folder: \")\n",
        "    images_path = images_path or \"input\"\n",
        "    output_path = input(\"Please enter path to output file: \")\n",
        "    output_path = output_path or f\"predictions/predictions_{model_name}.csv\"\n",
        "    print(\"Predicting...\")\n",
        "    predict(images_path=images_path, model_name=model_name, output_path=output_path)\n",
        "    print(\"Done.\")"
      ],
      "id": "bb4b0e6530a1ae44"
    },
    {
      "metadata": {
        "id": "662962d9bf012659"
      },
      "cell_type": "markdown",
      "source": [
        "# 4. Run"
      ],
      "id": "662962d9bf012659"
    },
    {
      "cell_type": "code",
      "source": [],
      "metadata": {
        "id": "S8DibEFpG3Ty",
        "outputId": "30253baf-1490-4c01-f351-9b391a940c7f",
        "colab": {
          "base_uri": "https://localhost:8080/"
        }
      },
      "id": "S8DibEFpG3Ty",
      "execution_count": 15,
      "outputs": [
        {
          "output_type": "execute_result",
          "data": {
            "text/plain": [
              "PosixPath('trained_models/best_model_SimpleCNN.pth')"
            ]
          },
          "metadata": {},
          "execution_count": 15
        }
      ]
    },
    {
      "metadata": {
        "colab": {
          "base_uri": "https://localhost:8080/",
          "height": 1000
        },
        "id": "fcfa849ba4024282",
        "outputId": "0938d54f-8eb3-4976-f3bd-c20085f5ba6c"
      },
      "cell_type": "code",
      "outputs": [
        {
          "output_type": "stream",
          "name": "stdout",
          "text": [
            "Please select model:\n",
            "    1. SimpleCNN\n",
            "    2. ResNet18\n",
            "    3. CapsNet\n",
            "1\n",
            "Please enter path to images folder: \n",
            "Please enter path to output file: \n",
            "Predicting...\n"
          ]
        },
        {
          "output_type": "error",
          "ename": "NotImplementedError",
          "evalue": "cannot instantiate 'WindowsPath' on your system",
          "traceback": [
            "\u001b[0;31m---------------------------------------------------------------------------\u001b[0m",
            "\u001b[0;31mNotImplementedError\u001b[0m                       Traceback (most recent call last)",
            "\u001b[0;32m/tmp/ipython-input-451043146.py\u001b[0m in \u001b[0;36m<cell line: 0>\u001b[0;34m()\u001b[0m\n\u001b[0;32m----> 1\u001b[0;31m \u001b[0mmain\u001b[0m\u001b[0;34m(\u001b[0m\u001b[0;34m)\u001b[0m\u001b[0;34m\u001b[0m\u001b[0;34m\u001b[0m\u001b[0m\n\u001b[0m",
            "\u001b[0;32m/tmp/ipython-input-4270666768.py\u001b[0m in \u001b[0;36mmain\u001b[0;34m()\u001b[0m\n\u001b[1;32m     45\u001b[0m     \u001b[0moutput_path\u001b[0m \u001b[0;34m=\u001b[0m \u001b[0moutput_path\u001b[0m \u001b[0;32mor\u001b[0m \u001b[0;34mf\"predictions/predictions_{model_name}.csv\"\u001b[0m\u001b[0;34m\u001b[0m\u001b[0;34m\u001b[0m\u001b[0m\n\u001b[1;32m     46\u001b[0m     \u001b[0mprint\u001b[0m\u001b[0;34m(\u001b[0m\u001b[0;34m\"Predicting...\"\u001b[0m\u001b[0;34m)\u001b[0m\u001b[0;34m\u001b[0m\u001b[0;34m\u001b[0m\u001b[0m\n\u001b[0;32m---> 47\u001b[0;31m     \u001b[0mpredict\u001b[0m\u001b[0;34m(\u001b[0m\u001b[0mimages_path\u001b[0m\u001b[0;34m=\u001b[0m\u001b[0mimages_path\u001b[0m\u001b[0;34m,\u001b[0m \u001b[0mmodel_name\u001b[0m\u001b[0;34m=\u001b[0m\u001b[0mmodel_name\u001b[0m\u001b[0;34m,\u001b[0m \u001b[0moutput_path\u001b[0m\u001b[0;34m=\u001b[0m\u001b[0moutput_path\u001b[0m\u001b[0;34m)\u001b[0m\u001b[0;34m\u001b[0m\u001b[0;34m\u001b[0m\u001b[0m\n\u001b[0m\u001b[1;32m     48\u001b[0m     \u001b[0mprint\u001b[0m\u001b[0;34m(\u001b[0m\u001b[0;34m\"Done.\"\u001b[0m\u001b[0;34m)\u001b[0m\u001b[0;34m\u001b[0m\u001b[0;34m\u001b[0m\u001b[0m\n",
            "\u001b[0;32m/tmp/ipython-input-4270666768.py\u001b[0m in \u001b[0;36mpredict\u001b[0;34m(images_path, model_name, output_path)\u001b[0m\n\u001b[1;32m     19\u001b[0m     )\n\u001b[1;32m     20\u001b[0m     \u001b[0mpred\u001b[0m \u001b[0;34m=\u001b[0m \u001b[0mPredictor\u001b[0m\u001b[0;34m(\u001b[0m\u001b[0mproc_cfg\u001b[0m\u001b[0;34m,\u001b[0m \u001b[0mbase_model_cls\u001b[0m\u001b[0;34m=\u001b[0m\u001b[0mmodel_to_class\u001b[0m\u001b[0;34m[\u001b[0m\u001b[0mmodel_name\u001b[0m\u001b[0;34m]\u001b[0m\u001b[0;34m)\u001b[0m\u001b[0;34m\u001b[0m\u001b[0;34m\u001b[0m\u001b[0m\n\u001b[0;32m---> 21\u001b[0;31m     \u001b[0mpred\u001b[0m\u001b[0;34m.\u001b[0m\u001b[0mrun\u001b[0m\u001b[0;34m(\u001b[0m\u001b[0msettings\u001b[0m\u001b[0;34m)\u001b[0m\u001b[0;34m\u001b[0m\u001b[0;34m\u001b[0m\u001b[0m\n\u001b[0m\u001b[1;32m     22\u001b[0m \u001b[0;34m\u001b[0m\u001b[0m\n\u001b[1;32m     23\u001b[0m \u001b[0;34m\u001b[0m\u001b[0m\n",
            "\u001b[0;32m/content/imaging-systems-project/predictor.py\u001b[0m in \u001b[0;36mrun\u001b[0;34m(self, config)\u001b[0m\n\u001b[1;32m     82\u001b[0m     \u001b[0;32mdef\u001b[0m \u001b[0mrun\u001b[0m\u001b[0;34m(\u001b[0m\u001b[0mself\u001b[0m\u001b[0;34m,\u001b[0m \u001b[0mconfig\u001b[0m\u001b[0;34m:\u001b[0m \u001b[0mPredictorSettings\u001b[0m\u001b[0;34m)\u001b[0m \u001b[0;34m->\u001b[0m \u001b[0mPath\u001b[0m\u001b[0;34m:\u001b[0m\u001b[0;34m\u001b[0m\u001b[0;34m\u001b[0m\u001b[0m\n\u001b[1;32m     83\u001b[0m         \u001b[0mdevice\u001b[0m \u001b[0;34m=\u001b[0m \u001b[0mtorch\u001b[0m\u001b[0;34m.\u001b[0m\u001b[0mdevice\u001b[0m\u001b[0;34m(\u001b[0m\u001b[0mconfig\u001b[0m\u001b[0;34m.\u001b[0m\u001b[0mdevice\u001b[0m \u001b[0;32mor\u001b[0m \u001b[0;34m(\u001b[0m\u001b[0;34m\"cuda\"\u001b[0m \u001b[0;32mif\u001b[0m \u001b[0mtorch\u001b[0m\u001b[0;34m.\u001b[0m\u001b[0mcuda\u001b[0m\u001b[0;34m.\u001b[0m\u001b[0mis_available\u001b[0m\u001b[0;34m(\u001b[0m\u001b[0;34m)\u001b[0m \u001b[0;32melse\u001b[0m \u001b[0;34m\"cpu\"\u001b[0m\u001b[0;34m)\u001b[0m\u001b[0;34m)\u001b[0m\u001b[0;34m\u001b[0m\u001b[0;34m\u001b[0m\u001b[0m\n\u001b[0;32m---> 84\u001b[0;31m         \u001b[0mmodel\u001b[0m\u001b[0;34m,\u001b[0m \u001b[0mnum_classes\u001b[0m \u001b[0;34m=\u001b[0m \u001b[0mself\u001b[0m\u001b[0;34m.\u001b[0m\u001b[0m_load_model\u001b[0m\u001b[0;34m(\u001b[0m\u001b[0mckpt_path\u001b[0m\u001b[0;34m=\u001b[0m\u001b[0mconfig\u001b[0m\u001b[0;34m.\u001b[0m\u001b[0mmodel_path\u001b[0m\u001b[0;34m,\u001b[0m \u001b[0mdevice\u001b[0m\u001b[0;34m=\u001b[0m\u001b[0mdevice\u001b[0m\u001b[0;34m)\u001b[0m\u001b[0;34m\u001b[0m\u001b[0;34m\u001b[0m\u001b[0m\n\u001b[0m\u001b[1;32m     85\u001b[0m         \u001b[0mimg_paths\u001b[0m \u001b[0;34m=\u001b[0m \u001b[0mself\u001b[0m\u001b[0;34m.\u001b[0m\u001b[0m_collect_images\u001b[0m\u001b[0;34m(\u001b[0m\u001b[0mimages_path\u001b[0m\u001b[0;34m=\u001b[0m\u001b[0mconfig\u001b[0m\u001b[0;34m.\u001b[0m\u001b[0mimages_root\u001b[0m\u001b[0;34m)\u001b[0m\u001b[0;34m\u001b[0m\u001b[0;34m\u001b[0m\u001b[0m\n\u001b[1;32m     86\u001b[0m         rows = self._infer(\n",
            "\u001b[0;32m/content/imaging-systems-project/predictor.py\u001b[0m in \u001b[0;36m_load_model\u001b[0;34m(self, ckpt_path, device)\u001b[0m\n\u001b[1;32m     17\u001b[0m \u001b[0;34m\u001b[0m\u001b[0m\n\u001b[1;32m     18\u001b[0m     \u001b[0;32mdef\u001b[0m \u001b[0m_load_model\u001b[0m\u001b[0;34m(\u001b[0m\u001b[0mself\u001b[0m\u001b[0;34m,\u001b[0m \u001b[0mckpt_path\u001b[0m\u001b[0;34m:\u001b[0m \u001b[0mPath\u001b[0m\u001b[0;34m,\u001b[0m \u001b[0mdevice\u001b[0m\u001b[0;34m:\u001b[0m \u001b[0mtorch\u001b[0m\u001b[0;34m.\u001b[0m\u001b[0mdevice\u001b[0m\u001b[0;34m)\u001b[0m\u001b[0;34m:\u001b[0m\u001b[0;34m\u001b[0m\u001b[0;34m\u001b[0m\u001b[0m\n\u001b[0;32m---> 19\u001b[0;31m         \u001b[0mckpt\u001b[0m \u001b[0;34m=\u001b[0m \u001b[0mtorch\u001b[0m\u001b[0;34m.\u001b[0m\u001b[0mload\u001b[0m\u001b[0;34m(\u001b[0m\u001b[0mckpt_path\u001b[0m\u001b[0;34m,\u001b[0m \u001b[0mmap_location\u001b[0m\u001b[0;34m=\u001b[0m\u001b[0mdevice\u001b[0m\u001b[0;34m,\u001b[0m \u001b[0mweights_only\u001b[0m\u001b[0;34m=\u001b[0m\u001b[0;32mFalse\u001b[0m\u001b[0;34m)\u001b[0m\u001b[0;34m\u001b[0m\u001b[0;34m\u001b[0m\u001b[0m\n\u001b[0m\u001b[1;32m     20\u001b[0m         \u001b[0mnum_classes\u001b[0m \u001b[0;34m=\u001b[0m \u001b[0mckpt\u001b[0m\u001b[0;34m.\u001b[0m\u001b[0mget\u001b[0m\u001b[0;34m(\u001b[0m\u001b[0;34m\"num_classes\"\u001b[0m\u001b[0;34m,\u001b[0m \u001b[0mlen\u001b[0m\u001b[0;34m(\u001b[0m\u001b[0mckpt\u001b[0m\u001b[0;34m.\u001b[0m\u001b[0mget\u001b[0m\u001b[0;34m(\u001b[0m\u001b[0;34m\"class_names\"\u001b[0m\u001b[0;34m,\u001b[0m \u001b[0;34m[\u001b[0m\u001b[0;34m]\u001b[0m\u001b[0;34m)\u001b[0m\u001b[0;34m)\u001b[0m \u001b[0;32mor\u001b[0m \u001b[0;36m3\u001b[0m\u001b[0;34m)\u001b[0m\u001b[0;34m\u001b[0m\u001b[0;34m\u001b[0m\u001b[0m\n\u001b[1;32m     21\u001b[0m         \u001b[0min_ch\u001b[0m \u001b[0;34m=\u001b[0m \u001b[0;36m3\u001b[0m \u001b[0;32mif\u001b[0m \u001b[0mself\u001b[0m\u001b[0;34m.\u001b[0m\u001b[0mproc_settings\u001b[0m\u001b[0;34m.\u001b[0m\u001b[0mto_rgb\u001b[0m \u001b[0;32melse\u001b[0m \u001b[0;36m1\u001b[0m\u001b[0;34m\u001b[0m\u001b[0;34m\u001b[0m\u001b[0m\n",
            "\u001b[0;32m/usr/local/lib/python3.11/dist-packages/torch/serialization.py\u001b[0m in \u001b[0;36mload\u001b[0;34m(f, map_location, pickle_module, weights_only, mmap, **pickle_load_args)\u001b[0m\n\u001b[1;32m   1523\u001b[0m                     \u001b[0;32mexcept\u001b[0m \u001b[0mpickle\u001b[0m\u001b[0;34m.\u001b[0m\u001b[0mUnpicklingError\u001b[0m \u001b[0;32mas\u001b[0m \u001b[0me\u001b[0m\u001b[0;34m:\u001b[0m\u001b[0;34m\u001b[0m\u001b[0;34m\u001b[0m\u001b[0m\n\u001b[1;32m   1524\u001b[0m                         \u001b[0;32mraise\u001b[0m \u001b[0mpickle\u001b[0m\u001b[0;34m.\u001b[0m\u001b[0mUnpicklingError\u001b[0m\u001b[0;34m(\u001b[0m\u001b[0m_get_wo_message\u001b[0m\u001b[0;34m(\u001b[0m\u001b[0mstr\u001b[0m\u001b[0;34m(\u001b[0m\u001b[0me\u001b[0m\u001b[0;34m)\u001b[0m\u001b[0;34m)\u001b[0m\u001b[0;34m)\u001b[0m \u001b[0;32mfrom\u001b[0m \u001b[0;32mNone\u001b[0m\u001b[0;34m\u001b[0m\u001b[0;34m\u001b[0m\u001b[0m\n\u001b[0;32m-> 1525\u001b[0;31m                 return _load(\n\u001b[0m\u001b[1;32m   1526\u001b[0m                     \u001b[0mopened_zipfile\u001b[0m\u001b[0;34m,\u001b[0m\u001b[0;34m\u001b[0m\u001b[0;34m\u001b[0m\u001b[0m\n\u001b[1;32m   1527\u001b[0m                     \u001b[0mmap_location\u001b[0m\u001b[0;34m,\u001b[0m\u001b[0;34m\u001b[0m\u001b[0;34m\u001b[0m\u001b[0m\n",
            "\u001b[0;32m/usr/local/lib/python3.11/dist-packages/torch/serialization.py\u001b[0m in \u001b[0;36m_load\u001b[0;34m(zip_file, map_location, pickle_module, pickle_file, overall_storage, **pickle_load_args)\u001b[0m\n\u001b[1;32m   2112\u001b[0m     \u001b[0;32mglobal\u001b[0m \u001b[0m_serialization_tls\u001b[0m\u001b[0;34m\u001b[0m\u001b[0;34m\u001b[0m\u001b[0m\n\u001b[1;32m   2113\u001b[0m     \u001b[0m_serialization_tls\u001b[0m\u001b[0;34m.\u001b[0m\u001b[0mmap_location\u001b[0m \u001b[0;34m=\u001b[0m \u001b[0mmap_location\u001b[0m\u001b[0;34m\u001b[0m\u001b[0;34m\u001b[0m\u001b[0m\n\u001b[0;32m-> 2114\u001b[0;31m     \u001b[0mresult\u001b[0m \u001b[0;34m=\u001b[0m \u001b[0munpickler\u001b[0m\u001b[0;34m.\u001b[0m\u001b[0mload\u001b[0m\u001b[0;34m(\u001b[0m\u001b[0;34m)\u001b[0m\u001b[0;34m\u001b[0m\u001b[0;34m\u001b[0m\u001b[0m\n\u001b[0m\u001b[1;32m   2115\u001b[0m     \u001b[0m_serialization_tls\u001b[0m\u001b[0;34m.\u001b[0m\u001b[0mmap_location\u001b[0m \u001b[0;34m=\u001b[0m \u001b[0;32mNone\u001b[0m\u001b[0;34m\u001b[0m\u001b[0;34m\u001b[0m\u001b[0m\n\u001b[1;32m   2116\u001b[0m \u001b[0;34m\u001b[0m\u001b[0m\n",
            "\u001b[0;32m/usr/lib/python3.11/pathlib.py\u001b[0m in \u001b[0;36m__new__\u001b[0;34m(cls, *args, **kwargs)\u001b[0m\n\u001b[1;32m    871\u001b[0m         \u001b[0mself\u001b[0m \u001b[0;34m=\u001b[0m \u001b[0mcls\u001b[0m\u001b[0;34m.\u001b[0m\u001b[0m_from_parts\u001b[0m\u001b[0;34m(\u001b[0m\u001b[0margs\u001b[0m\u001b[0;34m)\u001b[0m\u001b[0;34m\u001b[0m\u001b[0;34m\u001b[0m\u001b[0m\n\u001b[1;32m    872\u001b[0m         \u001b[0;32mif\u001b[0m \u001b[0;32mnot\u001b[0m \u001b[0mself\u001b[0m\u001b[0;34m.\u001b[0m\u001b[0m_flavour\u001b[0m\u001b[0;34m.\u001b[0m\u001b[0mis_supported\u001b[0m\u001b[0;34m:\u001b[0m\u001b[0;34m\u001b[0m\u001b[0;34m\u001b[0m\u001b[0m\n\u001b[0;32m--> 873\u001b[0;31m             raise NotImplementedError(\"cannot instantiate %r on your system\"\n\u001b[0m\u001b[1;32m    874\u001b[0m                                       % (cls.__name__,))\n\u001b[1;32m    875\u001b[0m         \u001b[0;32mreturn\u001b[0m \u001b[0mself\u001b[0m\u001b[0;34m\u001b[0m\u001b[0;34m\u001b[0m\u001b[0m\n",
            "\u001b[0;31mNotImplementedError\u001b[0m: cannot instantiate 'WindowsPath' on your system"
          ]
        }
      ],
      "execution_count": 14,
      "source": [
        "main()"
      ],
      "id": "fcfa849ba4024282"
    }
  ],
  "metadata": {
    "kernelspec": {
      "display_name": "Python 3",
      "language": "python",
      "name": "python3"
    },
    "language_info": {
      "codemirror_mode": {
        "name": "ipython",
        "version": 2
      },
      "file_extension": ".py",
      "mimetype": "text/x-python",
      "name": "python",
      "nbconvert_exporter": "python",
      "pygments_lexer": "ipython2",
      "version": "2.7.6"
    },
    "colab": {
      "provenance": []
    }
  },
  "nbformat": 4,
  "nbformat_minor": 5
}