{
 "cells": [
  {
   "metadata": {},
   "cell_type": "markdown",
   "source": "# 1. Install Requirements",
   "id": "3a37a12d53d21f93"
  },
  {
   "metadata": {
    "ExecuteTime": {
     "end_time": "2025-07-31T07:37:34.289769Z",
     "start_time": "2025-07-31T07:37:25.430675Z"
    }
   },
   "cell_type": "code",
   "source": "%pip install -r requirements.txt",
   "id": "ffd0328bb395e594",
   "outputs": [
    {
     "name": "stdout",
     "output_type": "stream",
     "text": [
      "Requirement already satisfied: absl-py==2.3.1 in c:\\users\\danielm\\pycharmprojects\\imaging-systems-project\\.venv\\lib\\site-packages (from -r requirements.txt (line 1)) (2.3.1)\n",
      "Requirement already satisfied: annotated-types==0.7.0 in c:\\users\\danielm\\pycharmprojects\\imaging-systems-project\\.venv\\lib\\site-packages (from -r requirements.txt (line 2)) (0.7.0)\n",
      "Requirement already satisfied: black==25.1.0 in c:\\users\\danielm\\pycharmprojects\\imaging-systems-project\\.venv\\lib\\site-packages (from -r requirements.txt (line 3)) (25.1.0)\n",
      "Requirement already satisfied: click==8.2.1 in c:\\users\\danielm\\pycharmprojects\\imaging-systems-project\\.venv\\lib\\site-packages (from -r requirements.txt (line 4)) (8.2.1)\n",
      "Requirement already satisfied: colorama==0.4.6 in c:\\users\\danielm\\pycharmprojects\\imaging-systems-project\\.venv\\lib\\site-packages (from -r requirements.txt (line 5)) (0.4.6)\n",
      "Requirement already satisfied: contourpy==1.3.3 in c:\\users\\danielm\\pycharmprojects\\imaging-systems-project\\.venv\\lib\\site-packages (from -r requirements.txt (line 6)) (1.3.3)\n",
      "Requirement already satisfied: cycler==0.12.1 in c:\\users\\danielm\\pycharmprojects\\imaging-systems-project\\.venv\\lib\\site-packages (from -r requirements.txt (line 7)) (0.12.1)\n",
      "Requirement already satisfied: filelock==3.18.0 in c:\\users\\danielm\\pycharmprojects\\imaging-systems-project\\.venv\\lib\\site-packages (from -r requirements.txt (line 8)) (3.18.0)\n",
      "Requirement already satisfied: fonttools==4.59.0 in c:\\users\\danielm\\pycharmprojects\\imaging-systems-project\\.venv\\lib\\site-packages (from -r requirements.txt (line 9)) (4.59.0)\n",
      "Requirement already satisfied: fsspec==2025.7.0 in c:\\users\\danielm\\pycharmprojects\\imaging-systems-project\\.venv\\lib\\site-packages (from -r requirements.txt (line 10)) (2025.7.0)\n",
      "Requirement already satisfied: grpcio==1.74.0 in c:\\users\\danielm\\pycharmprojects\\imaging-systems-project\\.venv\\lib\\site-packages (from -r requirements.txt (line 11)) (1.74.0)\n",
      "Requirement already satisfied: Jinja2==3.1.6 in c:\\users\\danielm\\pycharmprojects\\imaging-systems-project\\.venv\\lib\\site-packages (from -r requirements.txt (line 12)) (3.1.6)\n",
      "Requirement already satisfied: joblib==1.5.1 in c:\\users\\danielm\\pycharmprojects\\imaging-systems-project\\.venv\\lib\\site-packages (from -r requirements.txt (line 13)) (1.5.1)\n",
      "Requirement already satisfied: kiwisolver==1.4.8 in c:\\users\\danielm\\pycharmprojects\\imaging-systems-project\\.venv\\lib\\site-packages (from -r requirements.txt (line 14)) (1.4.8)\n",
      "Requirement already satisfied: Markdown==3.8.2 in c:\\users\\danielm\\pycharmprojects\\imaging-systems-project\\.venv\\lib\\site-packages (from -r requirements.txt (line 15)) (3.8.2)\n",
      "Requirement already satisfied: MarkupSafe==3.0.2 in c:\\users\\danielm\\pycharmprojects\\imaging-systems-project\\.venv\\lib\\site-packages (from -r requirements.txt (line 16)) (3.0.2)\n",
      "Requirement already satisfied: matplotlib==3.10.3 in c:\\users\\danielm\\pycharmprojects\\imaging-systems-project\\.venv\\lib\\site-packages (from -r requirements.txt (line 17)) (3.10.3)\n",
      "Requirement already satisfied: mpmath==1.3.0 in c:\\users\\danielm\\pycharmprojects\\imaging-systems-project\\.venv\\lib\\site-packages (from -r requirements.txt (line 18)) (1.3.0)\n",
      "Requirement already satisfied: mypy_extensions==1.1.0 in c:\\users\\danielm\\pycharmprojects\\imaging-systems-project\\.venv\\lib\\site-packages (from -r requirements.txt (line 19)) (1.1.0)\n",
      "Requirement already satisfied: networkx==3.5 in c:\\users\\danielm\\pycharmprojects\\imaging-systems-project\\.venv\\lib\\site-packages (from -r requirements.txt (line 20)) (3.5)\n",
      "Requirement already satisfied: numpy==2.3.2 in c:\\users\\danielm\\pycharmprojects\\imaging-systems-project\\.venv\\lib\\site-packages (from -r requirements.txt (line 21)) (2.3.2)\n",
      "Requirement already satisfied: opencv-python==4.10.0.84 in c:\\users\\danielm\\pycharmprojects\\imaging-systems-project\\.venv\\lib\\site-packages (from -r requirements.txt (line 22)) (4.10.0.84)\n",
      "Requirement already satisfied: packaging==25.0 in c:\\users\\danielm\\pycharmprojects\\imaging-systems-project\\.venv\\lib\\site-packages (from -r requirements.txt (line 23)) (25.0)\n",
      "Requirement already satisfied: pandas==2.3.1 in c:\\users\\danielm\\pycharmprojects\\imaging-systems-project\\.venv\\lib\\site-packages (from -r requirements.txt (line 24)) (2.3.1)\n",
      "Requirement already satisfied: pathspec==0.12.1 in c:\\users\\danielm\\pycharmprojects\\imaging-systems-project\\.venv\\lib\\site-packages (from -r requirements.txt (line 25)) (0.12.1)\n",
      "Requirement already satisfied: pillow==11.3.0 in c:\\users\\danielm\\pycharmprojects\\imaging-systems-project\\.venv\\lib\\site-packages (from -r requirements.txt (line 26)) (11.3.0)\n",
      "Requirement already satisfied: platformdirs==4.3.8 in c:\\users\\danielm\\pycharmprojects\\imaging-systems-project\\.venv\\lib\\site-packages (from -r requirements.txt (line 27)) (4.3.8)\n",
      "Requirement already satisfied: protobuf==6.31.1 in c:\\users\\danielm\\pycharmprojects\\imaging-systems-project\\.venv\\lib\\site-packages (from -r requirements.txt (line 28)) (6.31.1)\n",
      "Requirement already satisfied: pydantic==2.11.7 in c:\\users\\danielm\\pycharmprojects\\imaging-systems-project\\.venv\\lib\\site-packages (from -r requirements.txt (line 29)) (2.11.7)\n",
      "Requirement already satisfied: pydantic-settings==2.10.1 in c:\\users\\danielm\\pycharmprojects\\imaging-systems-project\\.venv\\lib\\site-packages (from -r requirements.txt (line 30)) (2.10.1)\n",
      "Requirement already satisfied: pydantic_core==2.33.2 in c:\\users\\danielm\\pycharmprojects\\imaging-systems-project\\.venv\\lib\\site-packages (from -r requirements.txt (line 31)) (2.33.2)\n",
      "Requirement already satisfied: pyparsing==3.2.3 in c:\\users\\danielm\\pycharmprojects\\imaging-systems-project\\.venv\\lib\\site-packages (from -r requirements.txt (line 32)) (3.2.3)\n",
      "Requirement already satisfied: python-dateutil==2.9.0.post0 in c:\\users\\danielm\\pycharmprojects\\imaging-systems-project\\.venv\\lib\\site-packages (from -r requirements.txt (line 33)) (2.9.0.post0)\n",
      "Requirement already satisfied: python-dotenv==1.1.1 in c:\\users\\danielm\\pycharmprojects\\imaging-systems-project\\.venv\\lib\\site-packages (from -r requirements.txt (line 34)) (1.1.1)\n",
      "Requirement already satisfied: pytz==2025.2 in c:\\users\\danielm\\pycharmprojects\\imaging-systems-project\\.venv\\lib\\site-packages (from -r requirements.txt (line 35)) (2025.2)\n",
      "Requirement already satisfied: scikit-learn==1.7.1 in c:\\users\\danielm\\pycharmprojects\\imaging-systems-project\\.venv\\lib\\site-packages (from -r requirements.txt (line 36)) (1.7.1)\n",
      "Requirement already satisfied: scipy==1.16.1 in c:\\users\\danielm\\pycharmprojects\\imaging-systems-project\\.venv\\lib\\site-packages (from -r requirements.txt (line 37)) (1.16.1)\n",
      "Requirement already satisfied: setuptools==80.9.0 in c:\\users\\danielm\\pycharmprojects\\imaging-systems-project\\.venv\\lib\\site-packages (from -r requirements.txt (line 38)) (80.9.0)\n",
      "Requirement already satisfied: six==1.17.0 in c:\\users\\danielm\\pycharmprojects\\imaging-systems-project\\.venv\\lib\\site-packages (from -r requirements.txt (line 39)) (1.17.0)\n",
      "Requirement already satisfied: sympy==1.14.0 in c:\\users\\danielm\\pycharmprojects\\imaging-systems-project\\.venv\\lib\\site-packages (from -r requirements.txt (line 40)) (1.14.0)\n",
      "Requirement already satisfied: tensorboard==2.20.0 in c:\\users\\danielm\\pycharmprojects\\imaging-systems-project\\.venv\\lib\\site-packages (from -r requirements.txt (line 41)) (2.20.0)\n",
      "Requirement already satisfied: tensorboard-data-server==0.7.2 in c:\\users\\danielm\\pycharmprojects\\imaging-systems-project\\.venv\\lib\\site-packages (from -r requirements.txt (line 42)) (0.7.2)\n",
      "Requirement already satisfied: threadpoolctl==3.6.0 in c:\\users\\danielm\\pycharmprojects\\imaging-systems-project\\.venv\\lib\\site-packages (from -r requirements.txt (line 43)) (3.6.0)\n",
      "Requirement already satisfied: torch==2.7.1 in c:\\users\\danielm\\pycharmprojects\\imaging-systems-project\\.venv\\lib\\site-packages (from -r requirements.txt (line 44)) (2.7.1)\n",
      "Requirement already satisfied: torchvision==0.22.1 in c:\\users\\danielm\\pycharmprojects\\imaging-systems-project\\.venv\\lib\\site-packages (from -r requirements.txt (line 45)) (0.22.1)\n",
      "Requirement already satisfied: tqdm==4.67.1 in c:\\users\\danielm\\pycharmprojects\\imaging-systems-project\\.venv\\lib\\site-packages (from -r requirements.txt (line 46)) (4.67.1)\n",
      "Requirement already satisfied: typing-inspection==0.4.1 in c:\\users\\danielm\\pycharmprojects\\imaging-systems-project\\.venv\\lib\\site-packages (from -r requirements.txt (line 47)) (0.4.1)\n",
      "Requirement already satisfied: typing_extensions==4.14.1 in c:\\users\\danielm\\pycharmprojects\\imaging-systems-project\\.venv\\lib\\site-packages (from -r requirements.txt (line 48)) (4.14.1)\n",
      "Requirement already satisfied: tzdata==2025.2 in c:\\users\\danielm\\pycharmprojects\\imaging-systems-project\\.venv\\lib\\site-packages (from -r requirements.txt (line 49)) (2025.2)\n",
      "Requirement already satisfied: uv==0.8.3 in c:\\users\\danielm\\pycharmprojects\\imaging-systems-project\\.venv\\lib\\site-packages (from -r requirements.txt (line 50)) (0.8.3)\n",
      "Requirement already satisfied: Werkzeug==3.1.3 in c:\\users\\danielm\\pycharmprojects\\imaging-systems-project\\.venv\\lib\\site-packages (from -r requirements.txt (line 51)) (3.1.3)\n",
      "Note: you may need to restart the kernel to use updated packages.\n"
     ]
    }
   ],
   "execution_count": 1
  },
  {
   "metadata": {},
   "cell_type": "markdown",
   "source": "# 2. Import stuff",
   "id": "70a5669e2ef63c86"
  },
  {
   "metadata": {},
   "cell_type": "code",
   "outputs": [],
   "execution_count": null,
   "source": [
    "from pathlib import Path\n",
    "from typing import Literal\n",
    "\n",
    "from predictor import Predictor\n",
    "from models import SimpleCNN, ResNet18, CapsNet\n",
    "from config import ProcessorSettings, PredictorSettings"
   ],
   "id": "70db988f683c434d"
  },
  {
   "metadata": {},
   "cell_type": "markdown",
   "source": "# 3. Some code",
   "id": "ec5d128882fe4ec8"
  },
  {
   "metadata": {},
   "cell_type": "code",
   "outputs": [],
   "execution_count": null,
   "source": [
    "def main():\n",
    "    model_idx = input(\n",
    "        \"\"\"Please select model:\n",
    "    1. SimpleCNN\n",
    "    2. ResNet18\n",
    "    3. CapsNet\n",
    "\"\"\"\n",
    "    )\n",
    "    match model_idx:\n",
    "        case \"1\":\n",
    "            model_name: ModelName = \"simplecnn\"\n",
    "        case \"2\":\n",
    "            model_name: ModelName = \"resnet18\"\n",
    "        case \"3\":\n",
    "            model_name: ModelName = \"capsnet\"\n",
    "        case _:\n",
    "            raise ValueError(\"Invalid model selection\")\n",
    "\n",
    "    images_path = input(\"Please enter path to images folder: \")\n",
    "    images_path = images_path or \"data/train\"\n",
    "    output_path = input(\"Please enter path to output file: \")\n",
    "    output_path = output_path or f\"predictions/predictions_{model_name}.csv\"\n",
    "    print(\"Predicting...\")\n",
    "    predict(images_path=images_path, model_name=model_name, output_path=output_path)\n",
    "    print(\"Done.\")"
   ],
   "id": "bb4b0e6530a1ae44"
  },
  {
   "metadata": {},
   "cell_type": "markdown",
   "source": "# 4. Run",
   "id": "662962d9bf012659"
  },
  {
   "metadata": {},
   "cell_type": "code",
   "outputs": [],
   "execution_count": null,
   "source": "main()",
   "id": "fcfa849ba4024282"
  }
 ],
 "metadata": {
  "kernelspec": {
   "display_name": "Python 3",
   "language": "python",
   "name": "python3"
  },
  "language_info": {
   "codemirror_mode": {
    "name": "ipython",
    "version": 2
   },
   "file_extension": ".py",
   "mimetype": "text/x-python",
   "name": "python",
   "nbconvert_exporter": "python",
   "pygments_lexer": "ipython2",
   "version": "2.7.6"
  }
 },
 "nbformat": 4,
 "nbformat_minor": 5
}
