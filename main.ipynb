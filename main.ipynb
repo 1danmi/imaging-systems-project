{
  "cells": [
    {
      "metadata": {
        "id": "3a37a12d53d21f93"
      },
      "cell_type": "markdown",
      "source": [
        "# 0. Clone repository"
      ],
      "id": "3a37a12d53d21f93"
    },
    {
      "cell_type": "code",
      "source": [
        "!git clone https://github.com/1danmi/imaging-systems-project"
      ],
      "metadata": {
        "colab": {
          "base_uri": "https://localhost:8080/"
        },
        "id": "nvDklVKIg-E8",
        "outputId": "608ce49b-6cd5-4e21-f0f1-a6665a8b1389"
      },
      "id": "nvDklVKIg-E8",
      "execution_count": 29,
      "outputs": [
        {
          "output_type": "stream",
          "name": "stdout",
          "text": [
            "Cloning into 'imaging-systems-project'...\n",
            "remote: Enumerating objects: 245, done.\u001b[K\n",
            "remote: Counting objects: 100% (52/52), done.\u001b[K\n",
            "remote: Compressing objects: 100% (45/45), done.\u001b[K\n",
            "remote: Total 245 (delta 20), reused 13 (delta 7), pack-reused 193 (from 1)\u001b[K\n",
            "Receiving objects: 100% (245/245), 84.22 MiB | 22.11 MiB/s, done.\n",
            "Resolving deltas: 100% (83/83), done.\n"
          ]
        }
      ]
    },
    {
      "cell_type": "code",
      "source": [
        "cd imaging-systems-project/"
      ],
      "metadata": {
        "colab": {
          "base_uri": "https://localhost:8080/"
        },
        "id": "WqJm7As5mgdJ",
        "outputId": "42986f5d-d067-4f3d-b50f-7b8fc65eff2a"
      },
      "id": "WqJm7As5mgdJ",
      "execution_count": 2,
      "outputs": [
        {
          "output_type": "stream",
          "name": "stdout",
          "text": [
            "/content/imaging-systems-project\n"
          ]
        }
      ]
    },
    {
      "cell_type": "markdown",
      "source": [
        "# 1. Install Requirements"
      ],
      "metadata": {
        "id": "UpWB73g9nWuv"
      },
      "id": "UpWB73g9nWuv"
    },
    {
      "cell_type": "code",
      "source": [
        "%pip install -r requirements.txt"
      ],
      "metadata": {
        "colab": {
          "base_uri": "https://localhost:8080/"
        },
        "id": "LwfhtK8mnaqH",
        "outputId": "6339c816-074f-4d7e-da4b-fb7219acf238"
      },
      "id": "LwfhtK8mnaqH",
      "execution_count": 3,
      "outputs": [
        {
          "output_type": "stream",
          "name": "stdout",
          "text": [
            "Requirement already satisfied: matplotlib==3.10.3 in /usr/local/lib/python3.11/dist-packages (from -r requirements.txt (line 1)) (3.10.3)\n",
            "Requirement already satisfied: numpy==2.3.2 in /usr/local/lib/python3.11/dist-packages (from -r requirements.txt (line 2)) (2.3.2)\n",
            "Requirement already satisfied: opencv-python==4.10.0.84 in /usr/local/lib/python3.11/dist-packages (from -r requirements.txt (line 3)) (4.10.0.84)\n",
            "Requirement already satisfied: pandas==2.3.1 in /usr/local/lib/python3.11/dist-packages (from -r requirements.txt (line 4)) (2.3.1)\n",
            "Requirement already satisfied: pillow==11.3.0 in /usr/local/lib/python3.11/dist-packages (from -r requirements.txt (line 5)) (11.3.0)\n",
            "Requirement already satisfied: pydantic-settings==2.10.1 in /usr/local/lib/python3.11/dist-packages (from -r requirements.txt (line 6)) (2.10.1)\n",
            "Requirement already satisfied: scikit-learn==1.7.1 in /usr/local/lib/python3.11/dist-packages (from -r requirements.txt (line 7)) (1.7.1)\n",
            "Requirement already satisfied: tensorboard==2.20.0 in /usr/local/lib/python3.11/dist-packages (from -r requirements.txt (line 8)) (2.20.0)\n",
            "Requirement already satisfied: torch==2.7.1 in /usr/local/lib/python3.11/dist-packages (from -r requirements.txt (line 9)) (2.7.1)\n",
            "Requirement already satisfied: torchvision==0.22.1 in /usr/local/lib/python3.11/dist-packages (from -r requirements.txt (line 10)) (0.22.1)\n",
            "Requirement already satisfied: tqdm==4.67.1 in /usr/local/lib/python3.11/dist-packages (from -r requirements.txt (line 11)) (4.67.1)\n",
            "Requirement already satisfied: contourpy>=1.0.1 in /usr/local/lib/python3.11/dist-packages (from matplotlib==3.10.3->-r requirements.txt (line 1)) (1.3.2)\n",
            "Requirement already satisfied: cycler>=0.10 in /usr/local/lib/python3.11/dist-packages (from matplotlib==3.10.3->-r requirements.txt (line 1)) (0.12.1)\n",
            "Requirement already satisfied: fonttools>=4.22.0 in /usr/local/lib/python3.11/dist-packages (from matplotlib==3.10.3->-r requirements.txt (line 1)) (4.59.0)\n",
            "Requirement already satisfied: kiwisolver>=1.3.1 in /usr/local/lib/python3.11/dist-packages (from matplotlib==3.10.3->-r requirements.txt (line 1)) (1.4.8)\n",
            "Requirement already satisfied: packaging>=20.0 in /usr/local/lib/python3.11/dist-packages (from matplotlib==3.10.3->-r requirements.txt (line 1)) (25.0)\n",
            "Requirement already satisfied: pyparsing>=2.3.1 in /usr/local/lib/python3.11/dist-packages (from matplotlib==3.10.3->-r requirements.txt (line 1)) (3.2.3)\n",
            "Requirement already satisfied: python-dateutil>=2.7 in /usr/local/lib/python3.11/dist-packages (from matplotlib==3.10.3->-r requirements.txt (line 1)) (2.9.0.post0)\n",
            "Requirement already satisfied: pytz>=2020.1 in /usr/local/lib/python3.11/dist-packages (from pandas==2.3.1->-r requirements.txt (line 4)) (2025.2)\n",
            "Requirement already satisfied: tzdata>=2022.7 in /usr/local/lib/python3.11/dist-packages (from pandas==2.3.1->-r requirements.txt (line 4)) (2025.2)\n",
            "Requirement already satisfied: pydantic>=2.7.0 in /usr/local/lib/python3.11/dist-packages (from pydantic-settings==2.10.1->-r requirements.txt (line 6)) (2.11.7)\n",
            "Requirement already satisfied: python-dotenv>=0.21.0 in /usr/local/lib/python3.11/dist-packages (from pydantic-settings==2.10.1->-r requirements.txt (line 6)) (1.1.1)\n",
            "Requirement already satisfied: typing-inspection>=0.4.0 in /usr/local/lib/python3.11/dist-packages (from pydantic-settings==2.10.1->-r requirements.txt (line 6)) (0.4.1)\n",
            "Requirement already satisfied: scipy>=1.8.0 in /usr/local/lib/python3.11/dist-packages (from scikit-learn==1.7.1->-r requirements.txt (line 7)) (1.16.0)\n",
            "Requirement already satisfied: joblib>=1.2.0 in /usr/local/lib/python3.11/dist-packages (from scikit-learn==1.7.1->-r requirements.txt (line 7)) (1.5.1)\n",
            "Requirement already satisfied: threadpoolctl>=3.1.0 in /usr/local/lib/python3.11/dist-packages (from scikit-learn==1.7.1->-r requirements.txt (line 7)) (3.6.0)\n",
            "Requirement already satisfied: absl-py>=0.4 in /usr/local/lib/python3.11/dist-packages (from tensorboard==2.20.0->-r requirements.txt (line 8)) (1.4.0)\n",
            "Requirement already satisfied: grpcio>=1.48.2 in /usr/local/lib/python3.11/dist-packages (from tensorboard==2.20.0->-r requirements.txt (line 8)) (1.74.0)\n",
            "Requirement already satisfied: markdown>=2.6.8 in /usr/local/lib/python3.11/dist-packages (from tensorboard==2.20.0->-r requirements.txt (line 8)) (3.8.2)\n",
            "Requirement already satisfied: protobuf!=4.24.0,>=3.19.6 in /usr/local/lib/python3.11/dist-packages (from tensorboard==2.20.0->-r requirements.txt (line 8)) (5.29.5)\n",
            "Requirement already satisfied: setuptools>=41.0.0 in /usr/local/lib/python3.11/dist-packages (from tensorboard==2.20.0->-r requirements.txt (line 8)) (75.2.0)\n",
            "Requirement already satisfied: tensorboard-data-server<0.8.0,>=0.7.0 in /usr/local/lib/python3.11/dist-packages (from tensorboard==2.20.0->-r requirements.txt (line 8)) (0.7.2)\n",
            "Requirement already satisfied: werkzeug>=1.0.1 in /usr/local/lib/python3.11/dist-packages (from tensorboard==2.20.0->-r requirements.txt (line 8)) (3.1.3)\n",
            "Requirement already satisfied: filelock in /usr/local/lib/python3.11/dist-packages (from torch==2.7.1->-r requirements.txt (line 9)) (3.18.0)\n",
            "Requirement already satisfied: typing-extensions>=4.10.0 in /usr/local/lib/python3.11/dist-packages (from torch==2.7.1->-r requirements.txt (line 9)) (4.14.1)\n",
            "Requirement already satisfied: sympy>=1.13.3 in /usr/local/lib/python3.11/dist-packages (from torch==2.7.1->-r requirements.txt (line 9)) (1.14.0)\n",
            "Requirement already satisfied: networkx in /usr/local/lib/python3.11/dist-packages (from torch==2.7.1->-r requirements.txt (line 9)) (3.5)\n",
            "Requirement already satisfied: jinja2 in /usr/local/lib/python3.11/dist-packages (from torch==2.7.1->-r requirements.txt (line 9)) (3.1.6)\n",
            "Requirement already satisfied: fsspec in /usr/local/lib/python3.11/dist-packages (from torch==2.7.1->-r requirements.txt (line 9)) (2025.3.0)\n",
            "Requirement already satisfied: nvidia-cuda-nvrtc-cu12==12.6.77 in /usr/local/lib/python3.11/dist-packages (from torch==2.7.1->-r requirements.txt (line 9)) (12.6.77)\n",
            "Requirement already satisfied: nvidia-cuda-runtime-cu12==12.6.77 in /usr/local/lib/python3.11/dist-packages (from torch==2.7.1->-r requirements.txt (line 9)) (12.6.77)\n",
            "Requirement already satisfied: nvidia-cuda-cupti-cu12==12.6.80 in /usr/local/lib/python3.11/dist-packages (from torch==2.7.1->-r requirements.txt (line 9)) (12.6.80)\n",
            "Requirement already satisfied: nvidia-cudnn-cu12==9.5.1.17 in /usr/local/lib/python3.11/dist-packages (from torch==2.7.1->-r requirements.txt (line 9)) (9.5.1.17)\n",
            "Requirement already satisfied: nvidia-cublas-cu12==12.6.4.1 in /usr/local/lib/python3.11/dist-packages (from torch==2.7.1->-r requirements.txt (line 9)) (12.6.4.1)\n",
            "Requirement already satisfied: nvidia-cufft-cu12==11.3.0.4 in /usr/local/lib/python3.11/dist-packages (from torch==2.7.1->-r requirements.txt (line 9)) (11.3.0.4)\n",
            "Requirement already satisfied: nvidia-curand-cu12==10.3.7.77 in /usr/local/lib/python3.11/dist-packages (from torch==2.7.1->-r requirements.txt (line 9)) (10.3.7.77)\n",
            "Requirement already satisfied: nvidia-cusolver-cu12==11.7.1.2 in /usr/local/lib/python3.11/dist-packages (from torch==2.7.1->-r requirements.txt (line 9)) (11.7.1.2)\n",
            "Requirement already satisfied: nvidia-cusparse-cu12==12.5.4.2 in /usr/local/lib/python3.11/dist-packages (from torch==2.7.1->-r requirements.txt (line 9)) (12.5.4.2)\n",
            "Requirement already satisfied: nvidia-cusparselt-cu12==0.6.3 in /usr/local/lib/python3.11/dist-packages (from torch==2.7.1->-r requirements.txt (line 9)) (0.6.3)\n",
            "Requirement already satisfied: nvidia-nccl-cu12==2.26.2 in /usr/local/lib/python3.11/dist-packages (from torch==2.7.1->-r requirements.txt (line 9)) (2.26.2)\n",
            "Requirement already satisfied: nvidia-nvtx-cu12==12.6.77 in /usr/local/lib/python3.11/dist-packages (from torch==2.7.1->-r requirements.txt (line 9)) (12.6.77)\n",
            "Requirement already satisfied: nvidia-nvjitlink-cu12==12.6.85 in /usr/local/lib/python3.11/dist-packages (from torch==2.7.1->-r requirements.txt (line 9)) (12.6.85)\n",
            "Requirement already satisfied: nvidia-cufile-cu12==1.11.1.6 in /usr/local/lib/python3.11/dist-packages (from torch==2.7.1->-r requirements.txt (line 9)) (1.11.1.6)\n",
            "Requirement already satisfied: triton==3.3.1 in /usr/local/lib/python3.11/dist-packages (from torch==2.7.1->-r requirements.txt (line 9)) (3.3.1)\n",
            "Requirement already satisfied: annotated-types>=0.6.0 in /usr/local/lib/python3.11/dist-packages (from pydantic>=2.7.0->pydantic-settings==2.10.1->-r requirements.txt (line 6)) (0.7.0)\n",
            "Requirement already satisfied: pydantic-core==2.33.2 in /usr/local/lib/python3.11/dist-packages (from pydantic>=2.7.0->pydantic-settings==2.10.1->-r requirements.txt (line 6)) (2.33.2)\n",
            "Requirement already satisfied: six>=1.5 in /usr/local/lib/python3.11/dist-packages (from python-dateutil>=2.7->matplotlib==3.10.3->-r requirements.txt (line 1)) (1.17.0)\n",
            "Requirement already satisfied: mpmath<1.4,>=1.1.0 in /usr/local/lib/python3.11/dist-packages (from sympy>=1.13.3->torch==2.7.1->-r requirements.txt (line 9)) (1.3.0)\n",
            "Requirement already satisfied: MarkupSafe>=2.1.1 in /usr/local/lib/python3.11/dist-packages (from werkzeug>=1.0.1->tensorboard==2.20.0->-r requirements.txt (line 8)) (3.0.2)\n"
          ]
        }
      ]
    },
    {
      "cell_type": "code",
      "source": [
        "!python --version"
      ],
      "metadata": {
        "colab": {
          "base_uri": "https://localhost:8080/"
        },
        "id": "jtGQpF1KE3Kr",
        "outputId": "06e71db6-89f7-432b-fe4a-b05f6d4b5848"
      },
      "id": "jtGQpF1KE3Kr",
      "execution_count": 4,
      "outputs": [
        {
          "output_type": "stream",
          "name": "stdout",
          "text": [
            "Python 3.11.13\n"
          ]
        }
      ]
    },
    {
      "metadata": {
        "id": "70a5669e2ef63c86"
      },
      "cell_type": "markdown",
      "source": [
        "# 2. Import stuff"
      ],
      "id": "70a5669e2ef63c86"
    },
    {
      "metadata": {
        "id": "70db988f683c434d"
      },
      "cell_type": "code",
      "outputs": [],
      "execution_count": 5,
      "source": [
        "from pathlib import Path\n",
        "from typing import Literal\n",
        "\n",
        "from predictor import Predictor\n",
        "from models import SimpleCNN, ResNet18, CapsNet\n",
        "from config import ProcessorSettings, PredictorSettings"
      ],
      "id": "70db988f683c434d"
    },
    {
      "metadata": {
        "id": "ec5d128882fe4ec8"
      },
      "cell_type": "markdown",
      "source": [
        "# 3. Prediction code"
      ],
      "id": "ec5d128882fe4ec8"
    },
    {
      "metadata": {
        "id": "bb4b0e6530a1ae44"
      },
      "cell_type": "code",
      "outputs": [],
      "execution_count": 6,
      "source": [
        "\n",
        "ModelName = Literal[\"simplecnn\", \"resnet18\", \"capsnet\"]\n",
        "\n",
        "model_to_class: dict[ModelName, type] = {\"simplecnn\": SimpleCNN, \"resnet18\": ResNet18, \"capsnet\": CapsNet}\n",
        "model_to_weights_path: dict[ModelName, Path] = {\n",
        "    \"simplecnn\": Path(\"trained_models/best_model_SimpleCNN.pth\"),\n",
        "    \"resnet18\": Path(\"trained_models/best_model_ResNet18.pth\"),\n",
        "    \"capsnet\": Path(\"trained_models/best_model_CapsNet.pth\"),\n",
        "}\n",
        "\n",
        "\n",
        "def predict(images_path: Path | str, model_name: ModelName, output_path: Path | str):\n",
        "    proc_cfg = ProcessorSettings(root_dir=Path(images_path))\n",
        "    settings = PredictorSettings(\n",
        "        model_path=model_to_weights_path[model_name],\n",
        "        images_root=Path(images_path),\n",
        "        output_path=Path(output_path),\n",
        "        write_label_idx=False,\n",
        "        write_probs=False,\n",
        "    )\n",
        "    pred = Predictor(proc_cfg, base_model_cls=model_to_class[model_name])\n",
        "    pred.run(settings)\n",
        "\n",
        "\n",
        "def main():\n",
        "    model_idx = input(\n",
        "        \"\"\"Please select model:\n",
        "    1. SimpleCNN\n",
        "    2. ResNet18\n",
        "    3. CapsNet\n",
        "\"\"\"\n",
        "    )\n",
        "    match model_idx:\n",
        "        case \"1\":\n",
        "            model_name: ModelName = \"simplecnn\"\n",
        "        case \"2\":\n",
        "            model_name: ModelName = \"resnet18\"\n",
        "        case \"3\":\n",
        "            model_name: ModelName = \"capsnet\"\n",
        "        case _:\n",
        "            raise ValueError(\"Invalid model selection\")\n",
        "\n",
        "    images_path = input(\"Please enter path to images folder: \")\n",
        "    images_path = images_path or \"input\"\n",
        "    output_path = input(\"Please enter path to output file: \")\n",
        "    output_path = output_path or f\"predictions/predictions_{model_name}.csv\"\n",
        "    print(\"Predicting...\")\n",
        "    predict(images_path=images_path, model_name=model_name, output_path=output_path)\n",
        "    print(\"Done.\")"
      ],
      "id": "bb4b0e6530a1ae44"
    },
    {
      "metadata": {
        "id": "662962d9bf012659"
      },
      "cell_type": "markdown",
      "source": [
        "# 4. Run"
      ],
      "id": "662962d9bf012659"
    },
    {
      "metadata": {
        "colab": {
          "base_uri": "https://localhost:8080/"
        },
        "id": "fcfa849ba4024282",
        "outputId": "39bd991a-bb5f-4599-a28b-d21165f8124b"
      },
      "cell_type": "code",
      "outputs": [
        {
          "output_type": "stream",
          "name": "stdout",
          "text": [
            "Please select model:\n",
            "    1. SimpleCNN\n",
            "    2. ResNet18\n",
            "    3. CapsNet\n",
            "1\n",
            "Please enter path to images folder: \n",
            "Please enter path to output file: \n",
            "Predicting...\n",
            "Wrote 1 rows to predictions/predictions_simplecnn.csv\n",
            "Done.\n"
          ]
        }
      ],
      "execution_count": 8,
      "source": [
        "main()"
      ],
      "id": "fcfa849ba4024282"
    }
  ],
  "metadata": {
    "kernelspec": {
      "display_name": "Python 3",
      "language": "python",
      "name": "python3"
    },
    "language_info": {
      "codemirror_mode": {
        "name": "ipython",
        "version": 2
      },
      "file_extension": ".py",
      "mimetype": "text/x-python",
      "name": "python",
      "nbconvert_exporter": "python",
      "pygments_lexer": "ipython2",
      "version": "2.7.6"
    },
    "colab": {
      "provenance": []
    }
  },
  "nbformat": 4,
  "nbformat_minor": 5
}